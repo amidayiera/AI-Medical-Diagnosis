{
  "nbformat": 4,
  "nbformat_minor": 0,
  "metadata": {
    "colab": {
      "provenance": [],
      "authorship_tag": "ABX9TyPqvkYAQou6dOVLKth1rOQA"
    },
    "kernelspec": {
      "name": "python3",
      "display_name": "Python 3"
    },
    "language_info": {
      "name": "python"
    }
  },
  "cells": [
    {
      "cell_type": "markdown",
      "source": [
        "# Evaluation of Diagnostic Models\n",
        "\n",
        "> OBJECTIVE:\n",
        "1. Accuracy\n",
        "2. Prevalence\n",
        "3. Specificity & Sensitivity\n",
        "4. PPV & NPV\n",
        "5. ROC curve and AUCROC (c-statistic)\n",
        "6. Confidence Intervals\n"
      ],
      "metadata": {
        "id": "GwygpYf473Py"
      }
    },
    {
      "cell_type": "markdown",
      "source": [
        "# 1.Import Libraries"
      ],
      "metadata": {
        "id": "lq2qoS3n7ndx"
      }
    },
    {
      "cell_type": "code",
      "execution_count": 1,
      "metadata": {
        "id": "9SNkOgD47gQ6"
      },
      "outputs": [],
      "source": [
        "import numpy as np\n",
        "import matplotlib.pyplot as plt\n",
        "import pandas as pd\n",
        "\n",
        "import util\n",
        "# from public_tests import *\n",
        "# from test_utils import *"
      ]
    },
    {
      "cell_type": "markdown",
      "source": [
        "# 2.Overview"
      ],
      "metadata": {
        "id": "0td5-GJi8_Pc"
      }
    },
    {
      "cell_type": "code",
      "source": [
        "train_results = pd.read_csv(\"/content/train_preds.csv\")\n",
        "valid_results = pd.read_csv(\"/content/valid_preds.csv\")\n",
        "\n",
        "# the labels in our dataset\n",
        "class_labels = ['Cardiomegaly',\n",
        " 'Emphysema',\n",
        " 'Effusion',\n",
        " 'Hernia',\n",
        " 'Infiltration',\n",
        " 'Mass',\n",
        " 'Nodule',\n",
        " 'Atelectasis',\n",
        " 'Pneumothorax',\n",
        " 'Pleural_Thickening',\n",
        " 'Pneumonia',\n",
        " 'Fibrosis',\n",
        " 'Edema',\n",
        " 'Consolidation']\n",
        "\n",
        "# the labels for prediction values in our dataset\n",
        "pred_labels = [l + \"_pred\" for l in class_labels]"
      ],
      "metadata": {
        "id": "7UOI9O1r8R-_"
      },
      "execution_count": 2,
      "outputs": []
    },
    {
      "cell_type": "code",
      "source": [
        "# extract labels(y) and predictions (pred)\n",
        "y = valid_results[class_labels].values\n",
        "pred = valid_results[pred_labels].values"
      ],
      "metadata": {
        "id": "J5xm0j438R7P"
      },
      "execution_count": 3,
      "outputs": []
    },
    {
      "cell_type": "code",
      "source": [
        "# let's take a peek at our dataset\n",
        "valid_results[np.concatenate([class_labels, pred_labels])].head()"
      ],
      "metadata": {
        "colab": {
          "base_uri": "https://localhost:8080/",
          "height": 255
        },
        "id": "2BAHBTYm8RzZ",
        "outputId": "86cd0962-79cc-42f0-9689-eddb51b12b6f"
      },
      "execution_count": 4,
      "outputs": [
        {
          "output_type": "execute_result",
          "data": {
            "text/plain": [
              "   Cardiomegaly  Emphysema  Effusion  Hernia  Infiltration  Mass  Nodule  \\\n",
              "0             0          0         0       0             0     0       0   \n",
              "1             0          0         0       0             1     0       1   \n",
              "2             0          0         0       0             0     0       0   \n",
              "3             0          0         0       0             0     0       0   \n",
              "4             0          0         0       0             0     0       0   \n",
              "\n",
              "   Atelectasis  Pneumothorax  Pleural_Thickening  ...  Infiltration_pred  \\\n",
              "0            0             0                   0  ...           0.256020   \n",
              "1            0             0                   0  ...           0.382199   \n",
              "2            0             0                   0  ...           0.427727   \n",
              "3            0             0                   0  ...           0.158596   \n",
              "4            0             0                   0  ...           0.536762   \n",
              "\n",
              "   Mass_pred  Nodule_pred  Atelectasis_pred  Pneumothorax_pred  \\\n",
              "0   0.266928     0.312440          0.460342           0.079453   \n",
              "1   0.176825     0.465807          0.489424           0.084595   \n",
              "2   0.115513     0.249030          0.035105           0.238761   \n",
              "3   0.259460     0.334870          0.266489           0.073371   \n",
              "4   0.198797     0.273110          0.186771           0.242122   \n",
              "\n",
              "   Pleural_Thickening_pred  Pneumonia_pred  Fibrosis_pred  Edema_pred  \\\n",
              "0                 0.271495        0.276861       0.398799    0.015867   \n",
              "1                 0.377317        0.363582       0.638024    0.025948   \n",
              "2                 0.167095        0.166389       0.262463    0.007758   \n",
              "3                 0.229834        0.191281       0.344348    0.008559   \n",
              "4                 0.309786        0.411771       0.244666    0.126930   \n",
              "\n",
              "   Consolidation_pred  \n",
              "0            0.156320  \n",
              "1            0.144419  \n",
              "2            0.125790  \n",
              "3            0.119153  \n",
              "4            0.342409  \n",
              "\n",
              "[5 rows x 28 columns]"
            ],
            "text/html": [
              "\n",
              "  <div id=\"df-f32381eb-9b5e-4f40-92e4-099a6b636691\" class=\"colab-df-container\">\n",
              "    <div>\n",
              "<style scoped>\n",
              "    .dataframe tbody tr th:only-of-type {\n",
              "        vertical-align: middle;\n",
              "    }\n",
              "\n",
              "    .dataframe tbody tr th {\n",
              "        vertical-align: top;\n",
              "    }\n",
              "\n",
              "    .dataframe thead th {\n",
              "        text-align: right;\n",
              "    }\n",
              "</style>\n",
              "<table border=\"1\" class=\"dataframe\">\n",
              "  <thead>\n",
              "    <tr style=\"text-align: right;\">\n",
              "      <th></th>\n",
              "      <th>Cardiomegaly</th>\n",
              "      <th>Emphysema</th>\n",
              "      <th>Effusion</th>\n",
              "      <th>Hernia</th>\n",
              "      <th>Infiltration</th>\n",
              "      <th>Mass</th>\n",
              "      <th>Nodule</th>\n",
              "      <th>Atelectasis</th>\n",
              "      <th>Pneumothorax</th>\n",
              "      <th>Pleural_Thickening</th>\n",
              "      <th>...</th>\n",
              "      <th>Infiltration_pred</th>\n",
              "      <th>Mass_pred</th>\n",
              "      <th>Nodule_pred</th>\n",
              "      <th>Atelectasis_pred</th>\n",
              "      <th>Pneumothorax_pred</th>\n",
              "      <th>Pleural_Thickening_pred</th>\n",
              "      <th>Pneumonia_pred</th>\n",
              "      <th>Fibrosis_pred</th>\n",
              "      <th>Edema_pred</th>\n",
              "      <th>Consolidation_pred</th>\n",
              "    </tr>\n",
              "  </thead>\n",
              "  <tbody>\n",
              "    <tr>\n",
              "      <th>0</th>\n",
              "      <td>0</td>\n",
              "      <td>0</td>\n",
              "      <td>0</td>\n",
              "      <td>0</td>\n",
              "      <td>0</td>\n",
              "      <td>0</td>\n",
              "      <td>0</td>\n",
              "      <td>0</td>\n",
              "      <td>0</td>\n",
              "      <td>0</td>\n",
              "      <td>...</td>\n",
              "      <td>0.256020</td>\n",
              "      <td>0.266928</td>\n",
              "      <td>0.312440</td>\n",
              "      <td>0.460342</td>\n",
              "      <td>0.079453</td>\n",
              "      <td>0.271495</td>\n",
              "      <td>0.276861</td>\n",
              "      <td>0.398799</td>\n",
              "      <td>0.015867</td>\n",
              "      <td>0.156320</td>\n",
              "    </tr>\n",
              "    <tr>\n",
              "      <th>1</th>\n",
              "      <td>0</td>\n",
              "      <td>0</td>\n",
              "      <td>0</td>\n",
              "      <td>0</td>\n",
              "      <td>1</td>\n",
              "      <td>0</td>\n",
              "      <td>1</td>\n",
              "      <td>0</td>\n",
              "      <td>0</td>\n",
              "      <td>0</td>\n",
              "      <td>...</td>\n",
              "      <td>0.382199</td>\n",
              "      <td>0.176825</td>\n",
              "      <td>0.465807</td>\n",
              "      <td>0.489424</td>\n",
              "      <td>0.084595</td>\n",
              "      <td>0.377317</td>\n",
              "      <td>0.363582</td>\n",
              "      <td>0.638024</td>\n",
              "      <td>0.025948</td>\n",
              "      <td>0.144419</td>\n",
              "    </tr>\n",
              "    <tr>\n",
              "      <th>2</th>\n",
              "      <td>0</td>\n",
              "      <td>0</td>\n",
              "      <td>0</td>\n",
              "      <td>0</td>\n",
              "      <td>0</td>\n",
              "      <td>0</td>\n",
              "      <td>0</td>\n",
              "      <td>0</td>\n",
              "      <td>0</td>\n",
              "      <td>0</td>\n",
              "      <td>...</td>\n",
              "      <td>0.427727</td>\n",
              "      <td>0.115513</td>\n",
              "      <td>0.249030</td>\n",
              "      <td>0.035105</td>\n",
              "      <td>0.238761</td>\n",
              "      <td>0.167095</td>\n",
              "      <td>0.166389</td>\n",
              "      <td>0.262463</td>\n",
              "      <td>0.007758</td>\n",
              "      <td>0.125790</td>\n",
              "    </tr>\n",
              "    <tr>\n",
              "      <th>3</th>\n",
              "      <td>0</td>\n",
              "      <td>0</td>\n",
              "      <td>0</td>\n",
              "      <td>0</td>\n",
              "      <td>0</td>\n",
              "      <td>0</td>\n",
              "      <td>0</td>\n",
              "      <td>0</td>\n",
              "      <td>0</td>\n",
              "      <td>0</td>\n",
              "      <td>...</td>\n",
              "      <td>0.158596</td>\n",
              "      <td>0.259460</td>\n",
              "      <td>0.334870</td>\n",
              "      <td>0.266489</td>\n",
              "      <td>0.073371</td>\n",
              "      <td>0.229834</td>\n",
              "      <td>0.191281</td>\n",
              "      <td>0.344348</td>\n",
              "      <td>0.008559</td>\n",
              "      <td>0.119153</td>\n",
              "    </tr>\n",
              "    <tr>\n",
              "      <th>4</th>\n",
              "      <td>0</td>\n",
              "      <td>0</td>\n",
              "      <td>0</td>\n",
              "      <td>0</td>\n",
              "      <td>0</td>\n",
              "      <td>0</td>\n",
              "      <td>0</td>\n",
              "      <td>0</td>\n",
              "      <td>0</td>\n",
              "      <td>0</td>\n",
              "      <td>...</td>\n",
              "      <td>0.536762</td>\n",
              "      <td>0.198797</td>\n",
              "      <td>0.273110</td>\n",
              "      <td>0.186771</td>\n",
              "      <td>0.242122</td>\n",
              "      <td>0.309786</td>\n",
              "      <td>0.411771</td>\n",
              "      <td>0.244666</td>\n",
              "      <td>0.126930</td>\n",
              "      <td>0.342409</td>\n",
              "    </tr>\n",
              "  </tbody>\n",
              "</table>\n",
              "<p>5 rows × 28 columns</p>\n",
              "</div>\n",
              "    <div class=\"colab-df-buttons\">\n",
              "\n",
              "  <div class=\"colab-df-container\">\n",
              "    <button class=\"colab-df-convert\" onclick=\"convertToInteractive('df-f32381eb-9b5e-4f40-92e4-099a6b636691')\"\n",
              "            title=\"Convert this dataframe to an interactive table.\"\n",
              "            style=\"display:none;\">\n",
              "\n",
              "  <svg xmlns=\"http://www.w3.org/2000/svg\" height=\"24px\" viewBox=\"0 -960 960 960\">\n",
              "    <path d=\"M120-120v-720h720v720H120Zm60-500h600v-160H180v160Zm220 220h160v-160H400v160Zm0 220h160v-160H400v160ZM180-400h160v-160H180v160Zm440 0h160v-160H620v160ZM180-180h160v-160H180v160Zm440 0h160v-160H620v160Z\"/>\n",
              "  </svg>\n",
              "    </button>\n",
              "\n",
              "  <style>\n",
              "    .colab-df-container {\n",
              "      display:flex;\n",
              "      gap: 12px;\n",
              "    }\n",
              "\n",
              "    .colab-df-convert {\n",
              "      background-color: #E8F0FE;\n",
              "      border: none;\n",
              "      border-radius: 50%;\n",
              "      cursor: pointer;\n",
              "      display: none;\n",
              "      fill: #1967D2;\n",
              "      height: 32px;\n",
              "      padding: 0 0 0 0;\n",
              "      width: 32px;\n",
              "    }\n",
              "\n",
              "    .colab-df-convert:hover {\n",
              "      background-color: #E2EBFA;\n",
              "      box-shadow: 0px 1px 2px rgba(60, 64, 67, 0.3), 0px 1px 3px 1px rgba(60, 64, 67, 0.15);\n",
              "      fill: #174EA6;\n",
              "    }\n",
              "\n",
              "    .colab-df-buttons div {\n",
              "      margin-bottom: 4px;\n",
              "    }\n",
              "\n",
              "    [theme=dark] .colab-df-convert {\n",
              "      background-color: #3B4455;\n",
              "      fill: #D2E3FC;\n",
              "    }\n",
              "\n",
              "    [theme=dark] .colab-df-convert:hover {\n",
              "      background-color: #434B5C;\n",
              "      box-shadow: 0px 1px 3px 1px rgba(0, 0, 0, 0.15);\n",
              "      filter: drop-shadow(0px 1px 2px rgba(0, 0, 0, 0.3));\n",
              "      fill: #FFFFFF;\n",
              "    }\n",
              "  </style>\n",
              "\n",
              "    <script>\n",
              "      const buttonEl =\n",
              "        document.querySelector('#df-f32381eb-9b5e-4f40-92e4-099a6b636691 button.colab-df-convert');\n",
              "      buttonEl.style.display =\n",
              "        google.colab.kernel.accessAllowed ? 'block' : 'none';\n",
              "\n",
              "      async function convertToInteractive(key) {\n",
              "        const element = document.querySelector('#df-f32381eb-9b5e-4f40-92e4-099a6b636691');\n",
              "        const dataTable =\n",
              "          await google.colab.kernel.invokeFunction('convertToInteractive',\n",
              "                                                    [key], {});\n",
              "        if (!dataTable) return;\n",
              "\n",
              "        const docLinkHtml = 'Like what you see? Visit the ' +\n",
              "          '<a target=\"_blank\" href=https://colab.research.google.com/notebooks/data_table.ipynb>data table notebook</a>'\n",
              "          + ' to learn more about interactive tables.';\n",
              "        element.innerHTML = '';\n",
              "        dataTable['output_type'] = 'display_data';\n",
              "        await google.colab.output.renderOutput(dataTable, element);\n",
              "        const docLink = document.createElement('div');\n",
              "        docLink.innerHTML = docLinkHtml;\n",
              "        element.appendChild(docLink);\n",
              "      }\n",
              "    </script>\n",
              "  </div>\n",
              "\n",
              "\n",
              "<div id=\"df-95b1e3e3-c0d4-4bcb-834e-e13d5a978371\">\n",
              "  <button class=\"colab-df-quickchart\" onclick=\"quickchart('df-95b1e3e3-c0d4-4bcb-834e-e13d5a978371')\"\n",
              "            title=\"Suggest charts\"\n",
              "            style=\"display:none;\">\n",
              "\n",
              "<svg xmlns=\"http://www.w3.org/2000/svg\" height=\"24px\"viewBox=\"0 0 24 24\"\n",
              "     width=\"24px\">\n",
              "    <g>\n",
              "        <path d=\"M19 3H5c-1.1 0-2 .9-2 2v14c0 1.1.9 2 2 2h14c1.1 0 2-.9 2-2V5c0-1.1-.9-2-2-2zM9 17H7v-7h2v7zm4 0h-2V7h2v10zm4 0h-2v-4h2v4z\"/>\n",
              "    </g>\n",
              "</svg>\n",
              "  </button>\n",
              "\n",
              "<style>\n",
              "  .colab-df-quickchart {\n",
              "      --bg-color: #E8F0FE;\n",
              "      --fill-color: #1967D2;\n",
              "      --hover-bg-color: #E2EBFA;\n",
              "      --hover-fill-color: #174EA6;\n",
              "      --disabled-fill-color: #AAA;\n",
              "      --disabled-bg-color: #DDD;\n",
              "  }\n",
              "\n",
              "  [theme=dark] .colab-df-quickchart {\n",
              "      --bg-color: #3B4455;\n",
              "      --fill-color: #D2E3FC;\n",
              "      --hover-bg-color: #434B5C;\n",
              "      --hover-fill-color: #FFFFFF;\n",
              "      --disabled-bg-color: #3B4455;\n",
              "      --disabled-fill-color: #666;\n",
              "  }\n",
              "\n",
              "  .colab-df-quickchart {\n",
              "    background-color: var(--bg-color);\n",
              "    border: none;\n",
              "    border-radius: 50%;\n",
              "    cursor: pointer;\n",
              "    display: none;\n",
              "    fill: var(--fill-color);\n",
              "    height: 32px;\n",
              "    padding: 0;\n",
              "    width: 32px;\n",
              "  }\n",
              "\n",
              "  .colab-df-quickchart:hover {\n",
              "    background-color: var(--hover-bg-color);\n",
              "    box-shadow: 0 1px 2px rgba(60, 64, 67, 0.3), 0 1px 3px 1px rgba(60, 64, 67, 0.15);\n",
              "    fill: var(--button-hover-fill-color);\n",
              "  }\n",
              "\n",
              "  .colab-df-quickchart-complete:disabled,\n",
              "  .colab-df-quickchart-complete:disabled:hover {\n",
              "    background-color: var(--disabled-bg-color);\n",
              "    fill: var(--disabled-fill-color);\n",
              "    box-shadow: none;\n",
              "  }\n",
              "\n",
              "  .colab-df-spinner {\n",
              "    border: 2px solid var(--fill-color);\n",
              "    border-color: transparent;\n",
              "    border-bottom-color: var(--fill-color);\n",
              "    animation:\n",
              "      spin 1s steps(1) infinite;\n",
              "  }\n",
              "\n",
              "  @keyframes spin {\n",
              "    0% {\n",
              "      border-color: transparent;\n",
              "      border-bottom-color: var(--fill-color);\n",
              "      border-left-color: var(--fill-color);\n",
              "    }\n",
              "    20% {\n",
              "      border-color: transparent;\n",
              "      border-left-color: var(--fill-color);\n",
              "      border-top-color: var(--fill-color);\n",
              "    }\n",
              "    30% {\n",
              "      border-color: transparent;\n",
              "      border-left-color: var(--fill-color);\n",
              "      border-top-color: var(--fill-color);\n",
              "      border-right-color: var(--fill-color);\n",
              "    }\n",
              "    40% {\n",
              "      border-color: transparent;\n",
              "      border-right-color: var(--fill-color);\n",
              "      border-top-color: var(--fill-color);\n",
              "    }\n",
              "    60% {\n",
              "      border-color: transparent;\n",
              "      border-right-color: var(--fill-color);\n",
              "    }\n",
              "    80% {\n",
              "      border-color: transparent;\n",
              "      border-right-color: var(--fill-color);\n",
              "      border-bottom-color: var(--fill-color);\n",
              "    }\n",
              "    90% {\n",
              "      border-color: transparent;\n",
              "      border-bottom-color: var(--fill-color);\n",
              "    }\n",
              "  }\n",
              "</style>\n",
              "\n",
              "  <script>\n",
              "    async function quickchart(key) {\n",
              "      const quickchartButtonEl =\n",
              "        document.querySelector('#' + key + ' button');\n",
              "      quickchartButtonEl.disabled = true;  // To prevent multiple clicks.\n",
              "      quickchartButtonEl.classList.add('colab-df-spinner');\n",
              "      try {\n",
              "        const charts = await google.colab.kernel.invokeFunction(\n",
              "            'suggestCharts', [key], {});\n",
              "      } catch (error) {\n",
              "        console.error('Error during call to suggestCharts:', error);\n",
              "      }\n",
              "      quickchartButtonEl.classList.remove('colab-df-spinner');\n",
              "      quickchartButtonEl.classList.add('colab-df-quickchart-complete');\n",
              "    }\n",
              "    (() => {\n",
              "      let quickchartButtonEl =\n",
              "        document.querySelector('#df-95b1e3e3-c0d4-4bcb-834e-e13d5a978371 button');\n",
              "      quickchartButtonEl.style.display =\n",
              "        google.colab.kernel.accessAllowed ? 'block' : 'none';\n",
              "    })();\n",
              "  </script>\n",
              "</div>\n",
              "\n",
              "    </div>\n",
              "  </div>\n"
            ],
            "application/vnd.google.colaboratory.intrinsic+json": {
              "type": "dataframe"
            }
          },
          "metadata": {},
          "execution_count": 4
        }
      ]
    },
    {
      "cell_type": "code",
      "source": [
        "# create histogram of the number of samples for each label in the validation dataset\n",
        "plt.xticks(rotation=90)\n",
        "plt.bar(x = class_labels, height= y.sum(axis=0));"
      ],
      "metadata": {
        "colab": {
          "base_uri": "https://localhost:8080/",
          "height": 548
        },
        "id": "NTfo3WPa8Rws",
        "outputId": "45daf0b8-183b-4d63-e254-16671e8bfd71"
      },
      "execution_count": 5,
      "outputs": [
        {
          "output_type": "display_data",
          "data": {
            "text/plain": [
              "<Figure size 640x480 with 1 Axes>"
            ],
            "image/png": "[encoded data removed]"
          },
          "metadata": {}
        }
      ]
    },
    {
      "cell_type": "markdown",
      "source": [
        "- dataset has imbalanced populationof samples.\n",
        "- small number of patients diagnosed with 'hernia'"
      ],
      "metadata": {
        "id": "njDkonBb9rQc"
      }
    },
    {
      "cell_type": "markdown",
      "source": [
        "# 3.Metrics\n"
      ],
      "metadata": {
        "id": "Sh7ocx0991PC"
      }
    },
    {
      "cell_type": "markdown",
      "source": [
        "## TP, FP, TN, FN\n",
        "- all metrics can be built off of these 4 statistics\n",
        "- use threshhold value to convert binary class preds to 0 or 1 (outputs above threshhold:1, outputs below threshhold:0)"
      ],
      "metadata": {
        "id": "yXecdsVt96m3"
      }
    },
    {
      "cell_type": "code",
      "source": [
        "def true_positives(y, pred, th=0.5):\n",
        "    \"\"\"\n",
        "    Count true positives.\n",
        "\n",
        "    Args:\n",
        "        y (np.array): ground truth, size (n_examples)\n",
        "        pred (np.array): model output, size (n_examples)\n",
        "        th (float): cutoff value for positive prediction from model\n",
        "    Returns:\n",
        "        TP (int): true positives\n",
        "    \"\"\"\n",
        "    TP = 0\n",
        "\n",
        "    # get thresholded predictions\n",
        "    thresholded_preds = pred >= th\n",
        "\n",
        "    # compute TP\n",
        "    TP = np.sum((y == 1) & (thresholded_preds == 1))\n",
        "\n",
        "    return TP\n",
        "\n",
        "def true_negatives(y, pred, th=0.5):\n",
        "    \"\"\"\n",
        "    Count true negatives.\n",
        "\n",
        "    Args:\n",
        "        y (np.array): ground truth, size (n_examples)\n",
        "        pred (np.array): model output, size (n_examples)\n",
        "        th (float): cutoff value for positive prediction from model\n",
        "    Returns:\n",
        "        TN (int): true negatives\n",
        "    \"\"\"\n",
        "    TN = 0\n",
        "\n",
        "    # get thresholded predictions\n",
        "    thresholded_preds = pred >= th\n",
        "\n",
        "    ### START CODE HERE (REPLACE INSTANCES OF 'None' with your code) ###\n",
        "\n",
        "    # compute TN\n",
        "    TN = np.sum((y == 0 ) & (thresholded_preds == 0))\n",
        "    return TN\n",
        "\n",
        "def false_positives(y, pred, th=0.5):\n",
        "    \"\"\"\n",
        "    Count false positives.\n",
        "\n",
        "    Args:\n",
        "        y (np.array): ground truth, size (n_examples)\n",
        "        pred (np.array): model output, size (n_examples)\n",
        "        th (float): cutoff value for positive prediction from model\n",
        "    Returns:\n",
        "        FP (int): false positives\n",
        "    \"\"\"\n",
        "    FP = 0\n",
        "\n",
        "    # get thresholded predictions\n",
        "    thresholded_preds = pred >= th\n",
        "\n",
        "    # compute FP\n",
        "    FP = np.sum((y == 0) & (thresholded_preds == 1))\n",
        "    return FP\n",
        "\n",
        "def false_negatives(y, pred, th=0.5):\n",
        "    \"\"\"\n",
        "    Count false positives.\n",
        "\n",
        "    Args:\n",
        "        y (np.array): ground truth, size (n_examples)\n",
        "        pred (np.array): model output, size (n_examples)\n",
        "        th (float): cutoff value for positive prediction from model\n",
        "    Returns:\n",
        "        FN (int): false negatives\n",
        "    \"\"\"\n",
        "    FN = 0\n",
        "\n",
        "    # get thresholded predictions\n",
        "    thresholded_preds = pred >= th\n",
        "\n",
        "    # compute FN\n",
        "    FN = np.sum((y == 1) & (thresholded_preds == 0))\n",
        "    return FN"
      ],
      "metadata": {
        "id": "c6RgkFMV8RsN"
      },
      "execution_count": 6,
      "outputs": []
    },
    {
      "cell_type": "code",
      "source": [
        "# summary of evaluative metrics for the model predictions for each class\n",
        "# util.get_performance_metrics(y, pred, class_labels)"
      ],
      "metadata": {
        "id": "uzVrdJms8Rqi"
      },
      "execution_count": null,
      "outputs": []
    },
    {
      "cell_type": "markdown",
      "source": [
        "!! CONFUSION MATRIX TABLE FOR CLASS LABELS !!"
      ],
      "metadata": {
        "id": "Jb9pChiCJe8w"
      }
    },
    {
      "cell_type": "markdown",
      "source": [
        "## Accuracy\n",
        "\n",
        "> accuracy = TP + TN / TP + TN + FP + FN"
      ],
      "metadata": {
        "id": "WMTCwJcCJp4U"
      }
    },
    {
      "cell_type": "markdown",
      "source": [
        "## Prevalence\n",
        "- Medical context: proportion of pple in population who have the disease/condition\n",
        "- ML context: proportion of positive examples\n",
        "> `prevalence = 1/N 𝛴 y(i)`\\\n",
        "where y(i) = 1, when example is '+ve' (has disease)"
      ],
      "metadata": {
        "id": "sfiOLTHkOJ9B"
      }
    },
    {
      "cell_type": "markdown",
      "source": [
        "## Sensitivity & Specificity\n",
        "\n",
        "- Sensitivity: prob that the test outputs +ve given the case is actually +ve\n",
        "> `sensitivity = TP / TP + FN`\n",
        "- Specificity: prob that the test outputs -ve given the case is acc -ve\n",
        "> `specificity = TN / TN + FP`\n",
        "\n",
        "---\n",
        "\n",
        "- these metrics do not depend on the prevalence of the +ve class in the dataset because:\n",
        "   - the stats are only computed within pple of the same class\n",
        "   - sensitivity only considers output on pple in +ve class\n",
        "   - specificity only considers output on pple in -ve class\n",
        "\n",
        "\n",
        "- **Diagnostically**,\n",
        "  - sensitivity and specificity are not helpful\n",
        "  - they are conditioning on the thing that the diagnostic models wants to find out*"
      ],
      "metadata": {
        "id": "coj4wW0VPbe3"
      }
    },
    {
      "cell_type": "markdown",
      "source": [
        "## PPV & NPV\n",
        "These metrics give the prob that the person has the disease given the test outputs +ve\n",
        "\n",
        "- PPV: Positive predictive value\n",
        "> prob that subjects with +ve screening test truly have the disease\\\n",
        " `ppv = TP / TP + FP`\n",
        "- NPV: Negative predictive value\n",
        "> prob that subjects with -ve screening test truly dont have the disease\\\n",
        " `npv = TN / TN + FN`\n",
        "\n",
        "\n",
        "---\n",
        "- despite having high sensitivity and accuracy, the PPV predictions could still be low\n",
        "\n"
      ],
      "metadata": {
        "id": "fr2UGbaDQZcG"
      }
    },
    {
      "cell_type": "markdown",
      "source": [
        "## ROC Curve\n",
        "\n",
        "- created by plotting the true positive rate (TPR) against the FPR at various threshold values\n",
        "- ideal point is at the top left: TPR=1, FPR=0\n",
        "- various points on the curve are generated by gradually changing the threshold\n",
        "\n",
        "- AUCROC or C-statistic: measure of goodness of fit\n",
        "- medical context: this number gives the prob that a randomly selected patient who experienced a condition had a higher risk score than patient who had not experienced the event.\n",
        "- this summarizes the model output across all thresholds\n",
        "- gives a good sense of the discriminative power of given model.\n"
      ],
      "metadata": {
        "id": "Cu1xvnagSTVR"
      }
    },
    {
      "cell_type": "markdown",
      "source": [
        "## Confidence Intervals\n",
        "- calculated values for the metrics are estimates of real-world values\n",
        "- confidence intervals used to quantify the uncertainity due to the sampling of the dataset\n",
        "\n",
        "- Bootstrap method: estimates uncertainity by resampling the dataset with replacement.\n",
        "- bootstrap method is used for estimates with more complicated statistics such as AUC"
      ],
      "metadata": {
        "id": "rFBA3lvATYSY"
      }
    },
    {
      "cell_type": "markdown",
      "source": [
        "## Precision-Recall Curve (PRC)\n",
        "Informative prediction metrics when significant class imbalances are present in the data\n",
        "- Precision: measure of result relevancy that is equivalent to PPV\n",
        "- Recall: measure of how many truly relevant results are returned that is equivalent to sensitivity measure.\n",
        "\n",
        "PRC: shows trade-off between precision and recall for diff thresholds\\\n",
        "High area under-curve:\n",
        "1. high recall: relates to low false +ve rate\n",
        "2. high precision: relates to low false -ve rate\n",
        "\n",
        "High scores: accurate results (high precision) and majority of all +ve results (high recall)\n",
        "\n",
        "\n"
      ],
      "metadata": {
        "id": "gYre7DTcUdlG"
      }
    },
    {
      "cell_type": "markdown",
      "source": [
        "## F1 Score\n",
        "\n",
        "F1 score: Harmonic mean of precision and recall (best value=1, perfect precisiona nd recall)"
      ],
      "metadata": {
        "id": "b_m_n6U9V-3i"
      }
    },
    {
      "cell_type": "markdown",
      "source": [
        "## Calibration\n",
        "\n",
        "Callibration curve: observe how model's generated probabilities are aligned with real probabilities\n",
        "- generate calibration plot\n",
        "Well calibrated model has a calibration curve that almost aligns with `y = x` line\\\n",
        "\n",
        "Platt scaling: fix calibration plots\n",
        "- fits logistic regression model to model scores.\n",
        "- model built using training portion of dataset to generate the linear mdoel\n",
        "- model used to calibrate the predictions for the test portion"
      ],
      "metadata": {
        "id": "VTjRmE9jWcCd"
      }
    },
    {
      "cell_type": "code",
      "source": [],
      "metadata": {
        "id": "6Hw9JP4H8Rlu"
      },
      "execution_count": 8,
      "outputs": []
    },
    {
      "cell_type": "code",
      "source": [],
      "metadata": {
        "id": "pYOKgwJf8RiT"
      },
      "execution_count": 8,
      "outputs": []
    },
    {
      "cell_type": "code",
      "source": [],
      "metadata": {
        "id": "2-rWvv6w8Rcf"
      },
      "execution_count": 8,
      "outputs": []
    },
    {
      "cell_type": "code",
      "source": [],
      "metadata": {
        "id": "jb9H6hYX8RWb"
      },
      "execution_count": 8,
      "outputs": []
    },
    {
      "cell_type": "code",
      "source": [],
      "metadata": {
        "id": "gXhD0eoQ8RTe"
      },
      "execution_count": 8,
      "outputs": []
    },
    {
      "cell_type": "code",
      "source": [],
      "metadata": {
        "id": "Ll7oQS7c8RPx"
      },
      "execution_count": 8,
      "outputs": []
    },
    {
      "cell_type": "code",
      "source": [],
      "metadata": {
        "id": "jc5xibcD8RMH"
      },
      "execution_count": 8,
      "outputs": []
    },
    {
      "cell_type": "code",
      "source": [],
      "metadata": {
        "id": "0ER3mlnO8RJW"
      },
      "execution_count": 8,
      "outputs": []
    },
    {
      "cell_type": "code",
      "source": [],
      "metadata": {
        "id": "Go0VmRyD8RGA"
      },
      "execution_count": 8,
      "outputs": []
    },
    {
      "cell_type": "code",
      "source": [],
      "metadata": {
        "id": "8XrMxj8Z8RDS"
      },
      "execution_count": 8,
      "outputs": []
    },
    {
      "cell_type": "code",
      "source": [],
      "metadata": {
        "id": "bha1Eqi88Q-p"
      },
      "execution_count": 8,
      "outputs": []
    },
    {
      "cell_type": "code",
      "source": [],
      "metadata": {
        "id": "AXF_8J8P8Q8C"
      },
      "execution_count": 8,
      "outputs": []
    },
    {
      "cell_type": "code",
      "source": [],
      "metadata": {
        "id": "6PoP_3bt8Q6D"
      },
      "execution_count": 8,
      "outputs": []
    },
    {
      "cell_type": "code",
      "source": [],
      "metadata": {
        "id": "FLErmSJS8Q3M"
      },
      "execution_count": 8,
      "outputs": []
    },
    {
      "cell_type": "code",
      "source": [],
      "metadata": {
        "id": "uLUXSslC8Q0c"
      },
      "execution_count": 8,
      "outputs": []
    },
    {
      "cell_type": "code",
      "source": [],
      "metadata": {
        "id": "pX6kLXax8Qyt"
      },
      "execution_count": 8,
      "outputs": []
    },
    {
      "cell_type": "code",
      "source": [],
      "metadata": {
        "id": "u1OWFyzc8Qv5"
      },
      "execution_count": 8,
      "outputs": []
    },
    {
      "cell_type": "code",
      "source": [],
      "metadata": {
        "id": "0Sac6wn38Qs0"
      },
      "execution_count": 8,
      "outputs": []
    },
    {
      "cell_type": "code",
      "source": [],
      "metadata": {
        "id": "LODr189Q8Qp0"
      },
      "execution_count": 8,
      "outputs": []
    },
    {
      "cell_type": "code",
      "source": [],
      "metadata": {
        "id": "2LQftIeb8Qfg"
      },
      "execution_count": 8,
      "outputs": []
    },
    {
      "cell_type": "code",
      "source": [],
      "metadata": {
        "id": "yswbywVv8Qdq"
      },
      "execution_count": 8,
      "outputs": []
    },
    {
      "cell_type": "code",
      "source": [],
      "metadata": {
        "id": "_arrUSuq8Qag"
      },
      "execution_count": 8,
      "outputs": []
    },
    {
      "cell_type": "code",
      "source": [],
      "metadata": {
        "id": "cK7yQHIp8QXt"
      },
      "execution_count": 8,
      "outputs": []
    },
    {
      "cell_type": "code",
      "source": [],
      "metadata": {
        "id": "3h52Psnk8QVB"
      },
      "execution_count": 8,
      "outputs": []
    },
    {
      "cell_type": "code",
      "source": [],
      "metadata": {
        "id": "TnQBx4RM8QSt"
      },
      "execution_count": 8,
      "outputs": []
    },
    {
      "cell_type": "code",
      "source": [],
      "metadata": {
        "id": "wiNPIJjQ8QOs"
      },
      "execution_count": 8,
      "outputs": []
    },
    {
      "cell_type": "code",
      "source": [],
      "metadata": {
        "id": "HoXhQ8Tt8QKe"
      },
      "execution_count": 8,
      "outputs": []
    },
    {
      "cell_type": "code",
      "source": [],
      "metadata": {
        "id": "gWjRrtk98QHm"
      },
      "execution_count": 8,
      "outputs": []
    },
    {
      "cell_type": "code",
      "source": [],
      "metadata": {
        "id": "A7d8Myop8QD7"
      },
      "execution_count": 8,
      "outputs": []
    }
  ]
}